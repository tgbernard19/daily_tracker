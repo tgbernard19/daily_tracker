{
 "cells": [
  {
   "cell_type": "code",
   "execution_count": 2,
   "id": "75511a51-310e-4a55-bfab-f5b549d698b9",
   "metadata": {},
   "outputs": [
    {
     "name": "stdout",
     "output_type": "stream",
     "text": [
      "Requirement already satisfied: fastapi in /srv/conda/envs/notebook/lib/python3.11/site-packages (0.115.5)\n",
      "Requirement already satisfied: pydantic in /srv/conda/envs/notebook/lib/python3.11/site-packages (2.9.2)\n",
      "Requirement already satisfied: sqlalchemy in /srv/conda/envs/notebook/lib/python3.11/site-packages (2.0.29)\n",
      "Requirement already satisfied: ipywidgets in /srv/conda/envs/notebook/lib/python3.11/site-packages (8.1.2)\n",
      "Requirement already satisfied: uvicorn[standard] in /srv/conda/envs/notebook/lib/python3.11/site-packages (0.32.0)\n",
      "Requirement already satisfied: starlette<0.42.0,>=0.40.0 in /srv/conda/envs/notebook/lib/python3.11/site-packages (from fastapi) (0.41.2)\n",
      "Requirement already satisfied: typing-extensions>=4.8.0 in /srv/conda/envs/notebook/lib/python3.11/site-packages (from fastapi) (4.12.2)\n",
      "Requirement already satisfied: click>=7.0 in /srv/conda/envs/notebook/lib/python3.11/site-packages (from uvicorn[standard]) (8.1.7)\n",
      "Requirement already satisfied: h11>=0.8 in /srv/conda/envs/notebook/lib/python3.11/site-packages (from uvicorn[standard]) (0.14.0)\n",
      "Requirement already satisfied: httptools>=0.5.0 in /srv/conda/envs/notebook/lib/python3.11/site-packages (from uvicorn[standard]) (0.6.1)\n",
      "Requirement already satisfied: python-dotenv>=0.13 in /srv/conda/envs/notebook/lib/python3.11/site-packages (from uvicorn[standard]) (1.0.1)\n",
      "Requirement already satisfied: pyyaml>=5.1 in /srv/conda/envs/notebook/lib/python3.11/site-packages (from uvicorn[standard]) (6.0.1)\n",
      "Requirement already satisfied: uvloop!=0.15.0,!=0.15.1,>=0.14.0 in /srv/conda/envs/notebook/lib/python3.11/site-packages (from uvicorn[standard]) (0.20.0)\n",
      "Requirement already satisfied: watchfiles>=0.13 in /srv/conda/envs/notebook/lib/python3.11/site-packages (from uvicorn[standard]) (0.24.0)\n",
      "Requirement already satisfied: websockets>=10.4 in /srv/conda/envs/notebook/lib/python3.11/site-packages (from uvicorn[standard]) (14.1)\n",
      "Requirement already satisfied: annotated-types>=0.6.0 in /srv/conda/envs/notebook/lib/python3.11/site-packages (from pydantic) (0.7.0)\n",
      "Requirement already satisfied: pydantic-core==2.23.4 in /srv/conda/envs/notebook/lib/python3.11/site-packages (from pydantic) (2.23.4)\n",
      "Requirement already satisfied: greenlet!=0.4.17 in /srv/conda/envs/notebook/lib/python3.11/site-packages (from sqlalchemy) (3.1.1)\n",
      "Requirement already satisfied: comm>=0.1.3 in /srv/conda/envs/notebook/lib/python3.11/site-packages (from ipywidgets) (0.2.2)\n",
      "Requirement already satisfied: ipython>=6.1.0 in /srv/conda/envs/notebook/lib/python3.11/site-packages (from ipywidgets) (8.18.0)\n",
      "Requirement already satisfied: traitlets>=4.3.1 in /srv/conda/envs/notebook/lib/python3.11/site-packages (from ipywidgets) (5.14.2)\n",
      "Requirement already satisfied: widgetsnbextension~=4.0.10 in /srv/conda/envs/notebook/lib/python3.11/site-packages (from ipywidgets) (4.0.10)\n",
      "Requirement already satisfied: jupyterlab-widgets~=3.0.10 in /srv/conda/envs/notebook/lib/python3.11/site-packages (from ipywidgets) (3.0.10)\n",
      "Requirement already satisfied: decorator in /srv/conda/envs/notebook/lib/python3.11/site-packages (from ipython>=6.1.0->ipywidgets) (5.1.1)\n",
      "Requirement already satisfied: jedi>=0.16 in /srv/conda/envs/notebook/lib/python3.11/site-packages (from ipython>=6.1.0->ipywidgets) (0.19.1)\n",
      "Requirement already satisfied: matplotlib-inline in /srv/conda/envs/notebook/lib/python3.11/site-packages (from ipython>=6.1.0->ipywidgets) (0.1.6)\n",
      "Requirement already satisfied: prompt-toolkit!=3.0.37,<3.1.0,>=3.0.30 in /srv/conda/envs/notebook/lib/python3.11/site-packages (from ipython>=6.1.0->ipywidgets) (3.0.36)\n",
      "Requirement already satisfied: pygments>=2.4.0 in /srv/conda/envs/notebook/lib/python3.11/site-packages (from ipython>=6.1.0->ipywidgets) (2.17.2)\n",
      "Requirement already satisfied: stack-data in /srv/conda/envs/notebook/lib/python3.11/site-packages (from ipython>=6.1.0->ipywidgets) (0.6.2)\n",
      "Requirement already satisfied: pexpect>4.3 in /srv/conda/envs/notebook/lib/python3.11/site-packages (from ipython>=6.1.0->ipywidgets) (4.9.0)\n",
      "Requirement already satisfied: anyio<5,>=3.4.0 in /srv/conda/envs/notebook/lib/python3.11/site-packages (from starlette<0.42.0,>=0.40.0->fastapi) (4.3.0)\n",
      "Requirement already satisfied: idna>=2.8 in /srv/conda/envs/notebook/lib/python3.11/site-packages (from anyio<5,>=3.4.0->starlette<0.42.0,>=0.40.0->fastapi) (3.6)\n",
      "Requirement already satisfied: sniffio>=1.1 in /srv/conda/envs/notebook/lib/python3.11/site-packages (from anyio<5,>=3.4.0->starlette<0.42.0,>=0.40.0->fastapi) (1.3.1)\n",
      "Requirement already satisfied: parso<0.9.0,>=0.8.3 in /srv/conda/envs/notebook/lib/python3.11/site-packages (from jedi>=0.16->ipython>=6.1.0->ipywidgets) (0.8.3)\n",
      "Requirement already satisfied: ptyprocess>=0.5 in /srv/conda/envs/notebook/lib/python3.11/site-packages (from pexpect>4.3->ipython>=6.1.0->ipywidgets) (0.7.0)\n",
      "Requirement already satisfied: wcwidth in /srv/conda/envs/notebook/lib/python3.11/site-packages (from prompt-toolkit!=3.0.37,<3.1.0,>=3.0.30->ipython>=6.1.0->ipywidgets) (0.2.13)\n",
      "Requirement already satisfied: executing>=1.2.0 in /srv/conda/envs/notebook/lib/python3.11/site-packages (from stack-data->ipython>=6.1.0->ipywidgets) (2.0.1)\n",
      "Requirement already satisfied: asttokens>=2.1.0 in /srv/conda/envs/notebook/lib/python3.11/site-packages (from stack-data->ipython>=6.1.0->ipywidgets) (2.4.1)\n",
      "Requirement already satisfied: pure-eval in /srv/conda/envs/notebook/lib/python3.11/site-packages (from stack-data->ipython>=6.1.0->ipywidgets) (0.2.2)\n",
      "Requirement already satisfied: six>=1.12.0 in /srv/conda/envs/notebook/lib/python3.11/site-packages (from asttokens>=2.1.0->stack-data->ipython>=6.1.0->ipywidgets) (1.16.0)\n"
     ]
    }
   ],
   "source": [
    "!pip install fastapi uvicorn[standard] pydantic sqlalchemy ipywidgets"
   ]
  },
  {
   "cell_type": "code",
   "execution_count": 16,
   "id": "02cc90ef-1fde-4321-9c30-472d18adbee2",
   "metadata": {},
   "outputs": [
    {
     "data": {
      "application/vnd.jupyter.widget-view+json": {
       "model_id": "cfc5838be6b4411a9357887aa9a269c3",
       "version_major": 2,
       "version_minor": 0
      },
      "text/plain": [
       "VBox(children=(HBox(children=(IntSlider(value=1, description='Mood:', max=10, min=1), IntSlider(value=1, descr…"
      ]
     },
     "metadata": {},
     "output_type": "display_data"
    }
   ],
   "source": [
    "from datetime import datetime, time\n",
    "import ipywidgets as widgets\n",
    "from IPython.display import display\n",
    "\n",
    "# Create form widgets\n",
    "mood_slider = widgets.IntSlider(min=1, max=10, description='Mood:')\n",
    "energy_slider = widgets.IntSlider(min=1, max=10, description='Energy:')\n",
    "productivity_slider = widgets.IntSlider(min=1, max=10, description='Productivity:')\n",
    "\n",
    "mood_text = widgets.Textarea(description='Mood notes:')\n",
    "energy_text = widgets.Textarea(description='Energy notes:')\n",
    "productivity_text = widgets.Textarea(description='Productivity notes:')\n",
    "general_notes = widgets.Textarea(description='General notes:')\n",
    "\n",
    "submit_button = widgets.Button(description='Save Entry')\n",
    "\n",
    "# Create form layout\n",
    "form = widgets.VBox([\n",
    "    widgets.HBox([mood_slider, energy_slider, productivity_slider]),\n",
    "    widgets.HBox([mood_text, energy_text, productivity_text]),\n",
    "    general_notes,\n",
    "    submit_button\n",
    "])\n",
    "\n",
    "# Display form\n",
    "display(form)"
   ]
  },
  {
   "cell_type": "code",
   "execution_count": 4,
   "id": "ec32bc3f-44e0-47f5-ba83-0220c1a3fbea",
   "metadata": {},
   "outputs": [
    {
     "data": {
      "application/vnd.jupyter.widget-view+json": {
       "model_id": "39d5ab5def874efeb65cc36ec57d08b2",
       "version_major": 2,
       "version_minor": 0
      },
      "text/plain": [
       "VBox(children=(HBox(children=(IntSlider(value=1, description='Mood:', max=10, min=1), IntSlider(value=1, descr…"
      ]
     },
     "metadata": {},
     "output_type": "display_data"
    }
   ],
   "source": []
  },
  {
   "cell_type": "code",
   "execution_count": 17,
   "id": "6df97ad4-01d0-4faf-bc51-a4848eb859b9",
   "metadata": {},
   "outputs": [],
   "source": [
    "def on_submit(b):\n",
    "    print(\"Starting submission...\")\n",
    "    entry_data = {\n",
    "        \"mood_score\": mood_slider.value,\n",
    "        \"energy_score\": energy_slider.value,\n",
    "        \"productivity_score\": productivity_slider.value,\n",
    "        \"mood_elaboration\": mood_text.value,\n",
    "        \"energy_elaboration\": energy_text.value,\n",
    "        \"productivity_elaboration\": productivity_text.value,\n",
    "        \"general_notes\": general_notes.value,\n",
    "        \"sleep_time\": datetime.now(),  # Adding required fields\n",
    "        \"wake_time\": datetime.now(),   # Adding required fields\n",
    "        \"sleep_quality\": 5,            # Adding required fields\n",
    "        \"date\": datetime.now()\n",
    "    }\n",
    "    \n",
    "    print(f\"Entry data prepared: {entry_data}\")\n",
    "    \n",
    "    from sqlalchemy.orm import Session\n",
    "    from app.database import SessionLocal, engine\n",
    "    from app.models.models import DailyEntry\n",
    "    \n",
    "    db = SessionLocal()\n",
    "    try:\n",
    "        print(\"Creating database entry...\")\n",
    "        db_entry = DailyEntry(**entry_data)\n",
    "        db.add(db_entry)\n",
    "        db.commit()\n",
    "        db.refresh(db_entry)\n",
    "        print(f\"Entry saved successfully with ID: {db_entry.id}\")\n",
    "    except Exception as e:\n",
    "        print(f\"Error saving entry: {str(e)}\")\n",
    "        print(f\"Error type: {type(e)}\")\n",
    "        db.rollback()\n",
    "    finally:\n",
    "        db.close()\n",
    "\n",
    "submit_button.on_click(on_submit)"
   ]
  },
  {
   "cell_type": "code",
   "execution_count": 18,
   "id": "557aad2f-2b62-4a81-9c5e-434c22f41906",
   "metadata": {},
   "outputs": [
    {
     "name": "stdout",
     "output_type": "stream",
     "text": [
      "Number of entries found: 0\n"
     ]
    }
   ],
   "source": [
    "import pandas as pd\n",
    "from app.database import SessionLocal\n",
    "from app.models.models import DailyEntry\n",
    "\n",
    "db = SessionLocal()\n",
    "try:\n",
    "    # Get all entries and print their details\n",
    "    entries = db.query(DailyEntry).all()\n",
    "    print(f\"Number of entries found: {len(entries)}\")\n",
    "    \n",
    "    for entry in entries:\n",
    "        print(\"\\nEntry:\")\n",
    "        print(f\"ID: {entry.id}\")\n",
    "        print(f\"Date: {entry.date}\")\n",
    "        print(f\"Mood: {entry.mood_score}\")\n",
    "        print(f\"Energy: {entry.energy_score}\")\n",
    "        print(f\"Productivity: {entry.productivity_score}\")\n",
    "finally:\n",
    "    db.close()"
   ]
  },
  {
   "cell_type": "code",
   "execution_count": null,
   "id": "b968a419-a5b6-45a3-bb5c-1da58dbc735c",
   "metadata": {},
   "outputs": [],
   "source": []
  }
 ],
 "metadata": {
  "kernelspec": {
   "display_name": "Python 3 (ipykernel)",
   "language": "python",
   "name": "python3"
  },
  "language_info": {
   "codemirror_mode": {
    "name": "ipython",
    "version": 3
   },
   "file_extension": ".py",
   "mimetype": "text/x-python",
   "name": "python",
   "nbconvert_exporter": "python",
   "pygments_lexer": "ipython3",
   "version": "3.11.10"
  }
 },
 "nbformat": 4,
 "nbformat_minor": 5
}
